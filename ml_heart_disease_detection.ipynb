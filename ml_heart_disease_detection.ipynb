{
  "nbformat": 4,
  "nbformat_minor": 0,
  "metadata": {
    "colab": {
      "provenance": [],
      "authorship_tag": "ABX9TyMHyaoFShbpqsceDaxzwgtd"
    },
    "kernelspec": {
      "name": "python3",
      "display_name": "Python 3"
    },
    "language_info": {
      "name": "python"
    }
  },
  "cells": [
    {
      "cell_type": "code",
      "source": [
        "import pandas as pd\n",
        "from sklearn.model_selection import train_test_split\n",
        "from sklearn.preprocessing import StandardScaler\n",
        "from sklearn.metrics import accuracy_score, classification_report\n",
        "from sklearn.linear_model import LogisticRegression\n",
        "from sklearn.ensemble import RandomForestClassifier, GradientBoostingClassifier\n",
        "from sklearn.svm import SVC\n",
        "from sklearn.neighbors import KNeighborsClassifier"
      ],
      "metadata": {
        "id": "nx4RM2C9nTWh"
      },
      "execution_count": 3,
      "outputs": []
    },
    {
      "cell_type": "code",
      "source": [
        "# loading the heart disease dataset to a pandas DataFrame\n",
        "diabetes_dataset = pd.read_csv('heart.csv')\n",
        "print(\"Dataset loaded successfully !\")"
      ],
      "metadata": {
        "colab": {
          "base_uri": "https://localhost:8080/"
        },
        "id": "4oIkdTnnnTQB",
        "outputId": "16170bcb-126f-4f92-dadd-f1f45dc7f982"
      },
      "execution_count": 4,
      "outputs": [
        {
          "output_type": "stream",
          "name": "stdout",
          "text": [
            "Dataset loaded successfully !\n"
          ]
        }
      ]
    },
    {
      "cell_type": "code",
      "source": [
        "# Use the loaded dataset\n",
        "df = diabetes_dataset\n",
        "\n",
        "# Separate features and target\n",
        "X = df.drop('target', axis=1)\n",
        "y = df['target']\n",
        "\n",
        "# Split the data\n",
        "X_train, X_test, y_train, y_test = train_test_split(\n",
        "    X, y, test_size=0.2, random_state=42, stratify=y)\n",
        "\n",
        "# Feature scaling for SVM and KNN\n",
        "scaler = StandardScaler()\n",
        "X_train_scaled = scaler.fit_transform(X_train)\n",
        "X_test_scaled = scaler.transform(X_test)"
      ],
      "metadata": {
        "id": "dKlvnhiwnTKi"
      },
      "execution_count": 5,
      "outputs": []
    },
    {
      "cell_type": "code",
      "source": [
        "# Initialize classifiers\n",
        "classifiers = {\n",
        "    'Logistic Regression': LogisticRegression(max_iter=1000),\n",
        "    'Random Forest': RandomForestClassifier(random_state=42),\n",
        "    'Support Vector Machine': SVC(random_state=42),\n",
        "    'K-Nearest Neighbors': KNeighborsClassifier(),\n",
        "    'Gradient Boosting': GradientBoostingClassifier(random_state=42)\n",
        "}"
      ],
      "metadata": {
        "id": "UTrpaodrnWHd"
      },
      "execution_count": 6,
      "outputs": []
    },
    {
      "cell_type": "code",
      "source": [
        "# Train and evaluate\n",
        "results = {}\n",
        "for name, clf in classifiers.items():\n",
        "    if name in ['Support Vector Machine', 'K-Nearest Neighbors']:\n",
        "        clf.fit(X_train_scaled, y_train)\n",
        "        y_pred = clf.predict(X_test_scaled)\n",
        "    else:\n",
        "        clf.fit(X_train, y_train)\n",
        "        y_pred = clf.predict(X_test)\n",
        "\n",
        "    acc = accuracy_score(y_test, y_pred)\n",
        "    results[name] = acc\n",
        "    print(f\"=== {name} ===\")\n",
        "    print(f\"Accuracy: {acc:.4f}\")\n",
        "    print(classification_report(y_test, y_pred))\n",
        "    print()\n",
        "\n",
        "best_model_name = max(results, key=results.get)\n",
        "best_accuracy = results[best_model_name]\n",
        "print(f\"Best model: {best_model_name} with accuracy {best_accuracy:.4f}\")\n"
      ],
      "metadata": {
        "colab": {
          "base_uri": "https://localhost:8080/"
        },
        "id": "dnlnp7qtKjyo",
        "outputId": "5efc13c9-da9d-4a8f-e1cc-6626533144cb"
      },
      "execution_count": 7,
      "outputs": [
        {
          "output_type": "stream",
          "name": "stdout",
          "text": [
            "=== Logistic Regression ===\n",
            "Accuracy: 0.8146\n",
            "              precision    recall  f1-score   support\n",
            "\n",
            "           0       0.90      0.70      0.79       100\n",
            "           1       0.76      0.92      0.84       105\n",
            "\n",
            "    accuracy                           0.81       205\n",
            "   macro avg       0.83      0.81      0.81       205\n",
            "weighted avg       0.83      0.81      0.81       205\n",
            "\n",
            "\n",
            "=== Random Forest ===\n",
            "Accuracy: 1.0000\n",
            "              precision    recall  f1-score   support\n",
            "\n",
            "           0       1.00      1.00      1.00       100\n",
            "           1       1.00      1.00      1.00       105\n",
            "\n",
            "    accuracy                           1.00       205\n",
            "   macro avg       1.00      1.00      1.00       205\n",
            "weighted avg       1.00      1.00      1.00       205\n",
            "\n",
            "\n",
            "=== Support Vector Machine ===\n",
            "Accuracy: 0.9268\n",
            "              precision    recall  f1-score   support\n",
            "\n",
            "           0       0.94      0.91      0.92       100\n",
            "           1       0.92      0.94      0.93       105\n",
            "\n",
            "    accuracy                           0.93       205\n",
            "   macro avg       0.93      0.93      0.93       205\n",
            "weighted avg       0.93      0.93      0.93       205\n",
            "\n",
            "\n",
            "=== K-Nearest Neighbors ===\n",
            "Accuracy: 0.8634\n",
            "              precision    recall  f1-score   support\n",
            "\n",
            "           0       0.85      0.87      0.86       100\n",
            "           1       0.87      0.86      0.87       105\n",
            "\n",
            "    accuracy                           0.86       205\n",
            "   macro avg       0.86      0.86      0.86       205\n",
            "weighted avg       0.86      0.86      0.86       205\n",
            "\n",
            "\n",
            "=== Gradient Boosting ===\n",
            "Accuracy: 0.9756\n",
            "              precision    recall  f1-score   support\n",
            "\n",
            "           0       0.98      0.97      0.97       100\n",
            "           1       0.97      0.98      0.98       105\n",
            "\n",
            "    accuracy                           0.98       205\n",
            "   macro avg       0.98      0.98      0.98       205\n",
            "weighted avg       0.98      0.98      0.98       205\n",
            "\n",
            "\n",
            "Best model: Random Forest with accuracy 1.0000\n"
          ]
        }
      ]
    }
  ]
}